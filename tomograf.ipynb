{
 "cells": [
  {
   "cell_type": "markdown",
   "id": "905e4c31-e27f-461d-8539-727880a80fc9",
   "metadata": {},
   "source": [
    "# Imports"
   ]
  },
  {
   "cell_type": "code",
   "execution_count": 1,
   "id": "9602b738-1788-4bf8-8293-16102749b126",
   "metadata": {
    "tags": []
   },
   "outputs": [],
   "source": [
    "import matplotlib.pyplot as plt\n",
    "import matplotlib.image as mpimg\n",
    "from os import walk\n",
    "import ipywidgets as widgets\n",
    "from ipywidgets import interact, interact_manual"
   ]
  },
  {
   "attachments": {},
   "cell_type": "markdown",
   "id": "39d67658",
   "metadata": {},
   "source": [
    "# Configuration"
   ]
  },
  {
   "cell_type": "code",
   "execution_count": 2,
   "id": "02b72a41",
   "metadata": {},
   "outputs": [],
   "source": [
    "pic_dir = \"./tomograf-zdjecia/\""
   ]
  },
  {
   "cell_type": "markdown",
   "id": "124b08c9-ad93-4bee-9cba-06b8db6a3a54",
   "metadata": {},
   "source": [
    "# Loading files"
   ]
  },
  {
   "cell_type": "code",
   "execution_count": 3,
   "id": "87b4afb2-b016-4673-8bfd-7cf93afb9187",
   "metadata": {
    "tags": []
   },
   "outputs": [],
   "source": [
    "filenames = next(walk(pic_dir), (None, None, []))[2]  # [] if no file\n",
    "images = dict()\n",
    "\n",
    "for file in filenames:\n",
    "    img = mpimg.imread(pic_dir+file)\n",
    "    images[file.split('.')[0]] = img\n",
    "    # plt.imshow(img)\n",
    "    # plt.show()"
   ]
  },
  {
   "attachments": {},
   "cell_type": "markdown",
   "id": "38af253f",
   "metadata": {},
   "source": [
    "# Quick overview"
   ]
  },
  {
   "cell_type": "code",
   "execution_count": 8,
   "id": "f02908f9",
   "metadata": {},
   "outputs": [
    {
     "data": {
      "application/vnd.jupyter.widget-view+json": {
       "model_id": "56b0bc844c6f46ecb27495dbd823c48b",
       "version_major": 2,
       "version_minor": 0
      },
      "text/plain": [
       "interactive(children=(Dropdown(description='image', options=('Shepp_logan', 'Kolo', 'Kwadraty2', 'SADDLE_PE', …"
      ]
     },
     "metadata": {},
     "output_type": "display_data"
    }
   ],
   "source": [
    "@interact\n",
    "def show_images(image=list(images.keys())):\n",
    "    plt.imshow(images[image])\n",
    "    plt.show()"
   ]
  },
  {
   "cell_type": "markdown",
   "id": "952a07b4-08ed-4bc9-bc89-7047eb99f188",
   "metadata": {},
   "source": []
  }
 ],
 "metadata": {
  "kernelspec": {
   "display_name": "Python 3 (ipykernel)",
   "language": "python",
   "name": "python3"
  },
  "language_info": {
   "codemirror_mode": {
    "name": "ipython",
    "version": 3
   },
   "file_extension": ".py",
   "mimetype": "text/x-python",
   "name": "python",
   "nbconvert_exporter": "python",
   "pygments_lexer": "ipython3",
   "version": "3.11.2"
  }
 },
 "nbformat": 4,
 "nbformat_minor": 5
}
